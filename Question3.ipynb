{
 "cells": [
  {
   "cell_type": "code",
   "execution_count": 1,
   "metadata": {},
   "outputs": [],
   "source": [
    "import numpy as np\n",
    "import pandas as pd\n",
    "import seaborn as sns"
   ]
  },
  {
   "cell_type": "markdown",
   "metadata": {},
   "source": [
    "# Import Cleaned Data"
   ]
  },
  {
   "cell_type": "code",
   "execution_count": 2,
   "metadata": {},
   "outputs": [],
   "source": [
    "google_play_df = pd.read_csv('data/googleplaystore-cleaned.csv')\n",
    "google_play_reviews_df = pd.read_csv('data/googleplaystore_user_reviews-cleaned.csv')"
   ]
  },
  {
   "cell_type": "markdown",
   "metadata": {},
   "source": [
    "# For this next section, choose a Category of playstore apps"
   ]
  },
  {
   "cell_type": "code",
   "execution_count": 5,
   "metadata": {},
   "outputs": [
    {
     "name": "stdout",
     "output_type": "stream",
     "text": [
      "ART_AND_DESIGN\n",
      "AUTO_AND_VEHICLES\n",
      "BEAUTY\n",
      "BOOKS_AND_REFERENCE\n",
      "BUSINESS\n",
      "COMICS\n",
      "COMMUNICATION\n",
      "DATING\n",
      "EDUCATION\n",
      "ENTERTAINMENT\n",
      "EVENTS\n",
      "FINANCE\n",
      "FOOD_AND_DRINK\n",
      "HEALTH_AND_FITNESS\n",
      "HOUSE_AND_HOME\n",
      "LIBRARIES_AND_DEMO\n",
      "LIFESTYLE\n",
      "GAME\n",
      "FAMILY\n",
      "MEDICAL\n",
      "SOCIAL\n",
      "SHOPPING\n",
      "PHOTOGRAPHY\n",
      "SPORTS\n",
      "TRAVEL_AND_LOCAL\n",
      "TOOLS\n",
      "PERSONALIZATION\n",
      "PRODUCTIVITY\n",
      "PARENTING\n",
      "WEATHER\n",
      "VIDEO_PLAYERS\n",
      "NEWS_AND_MAGAZINES\n",
      "MAPS_AND_NAVIGATION\n"
     ]
    }
   ],
   "source": [
    "for category in google_play_df['Category'].unique():\n",
    "    print(category)"
   ]
  },
  {
   "cell_type": "markdown",
   "metadata": {},
   "source": [
    "## Category Chosen: Game"
   ]
  },
  {
   "cell_type": "markdown",
   "metadata": {},
   "source": [
    "# Question 3:\n",
    "For your category, how many genres are represented? What are their counts? Please show this with a bar chart. "
   ]
  },
  {
   "cell_type": "markdown",
   "metadata": {},
   "source": [
    "## How Many Genres are Represented?\n",
    "The total number of genres represented is computed below."
   ]
  },
  {
   "cell_type": "code",
   "execution_count": 25,
   "metadata": {},
   "outputs": [
    {
     "data": {
      "text/plain": [
       "24"
      ]
     },
     "execution_count": 25,
     "metadata": {},
     "output_type": "execute_result"
    }
   ],
   "source": [
    "game_df = google_play_df[google_play_df['Category'] == 'GAME']\n",
    "len(game_df['Genres'].unique())"
   ]
  },
  {
   "cell_type": "markdown",
   "metadata": {},
   "source": [
    "## What are the frequencies of each genre?\n",
    "Below we produce a table of frequencies for the genres represented within the Games category."
   ]
  },
  {
   "cell_type": "code",
   "execution_count": 27,
   "metadata": {},
   "outputs": [
    {
     "data": {
      "text/plain": [
       "Action                           356\n",
       "Arcade                           218\n",
       "Racing                            98\n",
       "Adventure                         75\n",
       "Card                              48\n",
       "Board                             44\n",
       "Casual                            43\n",
       "Casino                            39\n",
       "Puzzle                            38\n",
       "Trivia                            38\n",
       "Word                              28\n",
       "Strategy                          22\n",
       "Music                             21\n",
       "Role Playing                      16\n",
       "Sports                            13\n",
       "Simulation                        10\n",
       "Adventure;Action & Adventure       5\n",
       "Action;Action & Adventure          3\n",
       "Casual;Brain Games                 1\n",
       "Casual;Creativity                  1\n",
       "Simulation;Education               1\n",
       "Casual;Action & Adventure          1\n",
       "Casual;Pretend Play                1\n",
       "Simulation;Action & Adventure      1\n",
       "Name: Genres, dtype: int64"
      ]
     },
     "execution_count": 27,
     "metadata": {},
     "output_type": "execute_result"
    }
   ],
   "source": [
    "game_df['Genres'].value_counts()"
   ]
  },
  {
   "cell_type": "markdown",
   "metadata": {},
   "source": [
    "## Bar Plot of Genres"
   ]
  },
  {
   "cell_type": "code",
   "execution_count": 23,
   "metadata": {},
   "outputs": [
    {
     "data": {
      "text/plain": [
       "<AxesSubplot:xlabel='Genres', ylabel='index'>"
      ]
     },
     "execution_count": 23,
     "metadata": {},
     "output_type": "execute_result"
    },
    {
     "data": {
      "image/png": "[encoded data removed]",
      "text/plain": [
       "<Figure size 432x288 with 1 Axes>"
      ]
     },
     "metadata": {
      "needs_background": "light"
     },
     "output_type": "display_data"
    }
   ],
   "source": [
    "game_genres_df = game_df['Genres'].value_counts().reset_index()\n",
    "sns.barplot(y='index', x='Genres', data = game_genres_df)"
   ]
  },
  {
   "cell_type": "code",
   "execution_count": null,
   "metadata": {},
   "outputs": [],
   "source": []
  }
 ],
 "metadata": {
  "kernelspec": {
   "display_name": "flatiron",
   "language": "python",
   "name": "flatiron"
  },
  "language_info": {
   "codemirror_mode": {
    "name": "ipython",
    "version": 3
   },
   "file_extension": ".py",
   "mimetype": "text/x-python",
   "name": "python",
   "nbconvert_exporter": "python",
   "pygments_lexer": "ipython3",
   "version": "3.6.9"
  }
 },
 "nbformat": 4,
 "nbformat_minor": 2
}
